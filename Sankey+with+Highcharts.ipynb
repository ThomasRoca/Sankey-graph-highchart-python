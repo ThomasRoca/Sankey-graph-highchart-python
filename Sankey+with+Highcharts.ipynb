{
 "cells": [
  {
   "cell_type": "markdown",
   "metadata": {},
   "source": [
    "# Sankey diagram with Highcharts and Python\n",
    "\n",
    "&#9733;<i>Thomas Roca, PhD, Data Officer, French Development Agency  &#9733;</i>\n",
    "*Version July 2017* v1\n",
    "\n",
    "---\n",
    "\n",
    "Highcharts' new release will contain a lot of cool stuff. Among them, Sankey Diagrams !\n",
    "An Early release for testing propose was shared - thanks [@MusMekh](https://twitter.com/MusMekh)!\n",
    "You can find it on this [JSfiddle](http://jsfiddle.net/gh/get/library/pure/highcharts/highcharts/tree/samples/highcharts/studies/sankey-diagram/)\n",
    "\n",
    "This folder contain a python script to clean, prepare the data and write the HTML file hosting the diagram.\n",
    "\n",
    "For this example we will use data from the United Nations High Commissioner for Refugees, more precisely, data from the [population statistics](http://popstats.unhcr.org/en/overview) which take account of the number of Syrian refugees and asylum seekers in 2016 and their destination.\n",
    "\n",
    "The data extracted were displaced people considered as 'Refugees (incl. refugee-like situations)' or 'Asylum-seekers (pending cases)') from Syrian to all other countries. The corresponding database is available as a CSV in this [Github folder](https://github.com/ThomasRoca/Sankey-graph-highchart-python)\n",
    "\n",
    "For readibilty purpose we decided to display only the countries for which more than 1,000 refugees or asylum seekers arrived."
   ]
  },
  {
   "cell_type": "markdown",
   "metadata": {},
   "source": [
    "## I. Organizing the data\n",
    "\n",
    "What we have is a CSV and what we need is something like this:\n",
    "\n",
    "    [\n",
    "      [\"Syrian Arab Rep.\", \"Rep. of Korea\", 1120.0],\n",
    "      [\"Syrian Arab Rep.\", \"Morocco\", 3242.0],\n",
    "      [\"Syrian Arab Rep.\", \"Libya\", 19508.0],\n",
    "       //....\n",
    "     ]\n",
    "     \n",
    "To proceede we will read the CSV and write our on data file with the expected format."
   ]
  },
  {
   "cell_type": "code",
   "execution_count": 71,
   "metadata": {
    "collapsed": false
   },
   "outputs": [],
   "source": [
    "import pandas as pd\n",
    "from pandas_datareader import data, wb\n",
    "from pandas import Series, DataFrame, concat\n",
    "import numpy as np\n",
    "import sys,os,os.path\n",
    "\n",
    "# Read data\n",
    "datafile='unhcr_popstats_export_persons_of_concern_2017_07_26_171219.csv'\n",
    "folder=\"https://raw.githubusercontent.com/ThomasRoca/Sankey-graph-highchart-python/master/\"\n",
    "dataset = pd.read_csv(folder+datafile, encoding='latin1', skiprows=3)\n",
    "\n",
    "# The raw file contain \"*\" for Non Applicable No information.\n",
    "dataset['Refugees (incl. refugee-like situations)']=dataset['Refugees (incl. refugee-like situations)'].replace('*',np.nan)\n",
    "dataset['Asylum-seekers (pending cases)']=dataset['Asylum-seekers (pending cases)'].replace('*',np.nan)\n",
    "\n",
    "dataset=dataset.sort_values(by=['Origin'], ascending=False)\n",
    "\n",
    "# What we want here is the count of Asylum seekers and Refugees, we thus sum these two colums.\n",
    "# NaN and 0 are different information but for our purpose we decided to proceed this way - we cannot sum a number with a NaN\n",
    "dataset['Refugees (incl. refugee-like situations)']=dataset['Refugees (incl. refugee-like situations)'].astype(float)\n",
    "dataset['Asylum-seekers (pending cases)']=dataset['Asylum-seekers (pending cases)'].astype(float)\n",
    "dataset['Total']=dataset['Asylum-seekers (pending cases)']+dataset['Refugees (incl. refugee-like situations)']\n",
    "\n",
    "# We will organize the data this way: ['from', 'to', 'weight']. We will store corresponding matrix in an external file (data.js)\n",
    "file = open(\"data.js\", \"w\")\n",
    "file.write(\"var dataUNHCR= [\")\n",
    "#Looping over the dataframe\n",
    "for row in range(len(dataset.index)):\n",
    "    if dataset['Total'].iloc[row]>1000 :\n",
    "        if (dataset[\"Origin\"].iloc[row]=='Syrian Arab Rep.') & (dataset[\"Country / territory of asylum/residence\"].iloc[row]!='Iraq') : \n",
    "            file.write('[\"'+dataset[\"Origin\"].iloc[row]+'\",\"'+dataset[\"Country / territory of asylum/residence\"].iloc[row]+'\",')\n",
    "            file.write(str(dataset[\"Total\"].iloc[row])+'],')\n",
    "        \n",
    "        if (dataset[\"Origin\"].iloc[row]=='Iraq') & (dataset[\"Country / territory of asylum/residence\"].iloc[row]!='Syrian Arab Rep.') : \n",
    "            file.write('[\"'+dataset[\"Origin\"].iloc[row]+'\",\"'+dataset[\"Country / territory of asylum/residence\"].iloc[row]+'\",')\n",
    "            file.write(str(dataset[\"Total\"].iloc[row])+'],')\n",
    "        \n",
    "file.write(\"]\")\n",
    "file.close()"
   ]
  },
  {
   "cell_type": "markdown",
   "metadata": {},
   "source": [
    "## II. Write the Sankey Diagram\n",
    "\n",
    "We now have a dataset (data.js) to feed the diagram. We can now write the HTML file which contain the datavisualization.\n",
    "To simplify the code, we stored the highcharts JavaScript code of the sankey diagram in a seperate file \"sankey.js\".\n",
    "We will call this file so as the data within the script."
   ]
  },
  {
   "cell_type": "code",
   "execution_count": 68,
   "metadata": {
    "collapsed": false
   },
   "outputs": [],
   "source": [
    "from string import Template\n",
    "from IPython.display import HTML\n",
    "import codecs\n",
    "\n",
    "html= '''\n",
    "<!DOCTYPE html>\n",
    "<html>\n",
    "<head>\n",
    "  <meta http-equiv=\"content-type\" content=\"text/html; charset=UTF-8\">\n",
    "   <style type=\"text/css\">\n",
    "    #container {\n",
    "    width: 800px;\n",
    "    height: 800px;\n",
    "    margin: 1em auto;\n",
    "    border: 0px ;\n",
    "}\n",
    "\n",
    "#csv {\n",
    "display: none;\n",
    "}\n",
    "  </style>\n",
    "\n",
    "  <title>Highcharts Demo</title>\n",
    " \n",
    "</head>\n",
    "\n",
    "<body>\n",
    "<script src=\"https://code.highcharts.com/highcharts.js\"></script>\n",
    "<script src=\"https://code.highcharts.com/modules/exporting.js\"></script>\n",
    "<script src=\"sankey.js\"></script>\n",
    "<script src=\"data.js\"></script>\n",
    "    \n",
    "<div id=\"container\"></div>\n",
    "\n",
    "<script type='text/javascript'>//<![CDATA[\n",
    "\n",
    "Highcharts.chart('container', {\n",
    "    title: {\n",
    "        text: 'Highcharts Sankey <br>Refugee and Asylum seekers from Syrian by destination in 2016'\n",
    "    },\n",
    "    subtitle: {\n",
    "        text: 'Data source: UNHCR Population Statistics Reference Database 2017'\n",
    "    },\n",
    "    series: [{\n",
    "        keys: ['from', 'to', 'weight'],\n",
    "        data: dataUNHCR,\n",
    "        type: 'sankey',\n",
    "        name: 'Refugee and Asylum seekers '\n",
    "    }]\n",
    "});\n",
    "\n",
    "//]]> \n",
    "\n",
    "</script>\n",
    "</body>\n",
    "</html>\n",
    "'''\n",
    "    \n",
    "with codecs.open(\"dataviz.html\", \"w\", \"utf-8-sig\") as f:\n",
    "    f.write(html)\n",
    "    f.close()"
   ]
  },
  {
   "cell_type": "code",
   "execution_count": null,
   "metadata": {
    "collapsed": true
   },
   "outputs": [],
   "source": [
    "HTML('<iframe src=\"http://stats4dev.com/dataviz/sankey/dataviz.html\" scrolling=\"no\" frameborder=\"0\" width=\"100%\" height=\"875px\"></iframe>')"
   ]
  },
  {
   "cell_type": "markdown",
   "metadata": {},
   "source": [
    "<iframe src=\"http://stats4dev.com/dataviz/sankey/dataviz.html\" scrolling=\"no\" frameborder=\"0\" width=\"100%\" height=\"875px\"></iframe>"
   ]
  }
 ],
 "metadata": {
  "kernelspec": {
   "display_name": "Python 3",
   "language": "python",
   "name": "python3"
  },
  "language_info": {
   "codemirror_mode": {
    "name": "ipython",
    "version": 3
   },
   "file_extension": ".py",
   "mimetype": "text/x-python",
   "name": "python",
   "nbconvert_exporter": "python",
   "pygments_lexer": "ipython3",
   "version": "3.4.4"
  }
 },
 "nbformat": 4,
 "nbformat_minor": 0
}
